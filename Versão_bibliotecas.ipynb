{
  "cells": [
    {
      "cell_type": "markdown",
      "metadata": {
        "id": "view-in-github",
        "colab_type": "text"
      },
      "source": [
        "<a href=\"https://colab.research.google.com/github/prinakayama/Estatistica_com_Python/blob/main/Versa%CC%83o_bibliotecas.ipynb\" target=\"_parent\"><img src=\"https://colab.research.google.com/assets/colab-badge.svg\" alt=\"Open In Colab\"/></a>"
      ]
    },
    {
      "cell_type": "code",
      "execution_count": 1,
      "metadata": {
        "colab": {
          "base_uri": "https://localhost:8080/"
        },
        "id": "kffSOYcgir5Q",
        "outputId": "4b2cb2a7-20d2-45d4-d8bc-74bb14deeaa7"
      },
      "outputs": [
        {
          "output_type": "stream",
          "name": "stdout",
          "text": [
            "Versão do pandas -> 2.0.3\n",
            "Versão do numpy -> 1.25.2\n",
            "Versão do scipy -> 1.11.4\n",
            "Versão do statsmodels -> 0.14.2\n",
            "Versão do seaborn -> 0.13.1\n",
            "Versão do matplotlib -> 3.7.1\n",
            "Versão do scikit-learn -> 1.2.2\n"
          ]
        }
      ],
      "source": [
        "import pandas, numpy, scipy, statsmodels, seaborn, matplotlib, sklearn\n",
        "\n",
        "print('Versão do pandas -> %s' % pandas.__version__)\n",
        "print('Versão do numpy -> %s' % numpy.__version__)\n",
        "print('Versão do scipy -> %s' % scipy.__version__)\n",
        "print('Versão do statsmodels -> %s' % statsmodels.__version__)\n",
        "print('Versão do seaborn -> %s' % seaborn.__version__)\n",
        "print('Versão do matplotlib -> %s' % matplotlib.__version__)\n",
        "print('Versão do scikit-learn -> %s' % sklearn.__version__)"
      ]
    },
    {
      "cell_type": "code",
      "execution_count": null,
      "metadata": {
        "id": "bcAPEvyqjJCx"
      },
      "outputs": [],
      "source": []
    }
  ],
  "metadata": {
    "colab": {
      "provenance": [],
      "include_colab_link": true
    },
    "kernelspec": {
      "display_name": "Python 3",
      "language": "python",
      "name": "python3"
    },
    "language_info": {
      "codemirror_mode": {
        "name": "ipython",
        "version": 3
      },
      "file_extension": ".py",
      "mimetype": "text/x-python",
      "name": "python",
      "nbconvert_exporter": "python",
      "pygments_lexer": "ipython3",
      "version": "3.6.5"
    }
  },
  "nbformat": 4,
  "nbformat_minor": 0
}